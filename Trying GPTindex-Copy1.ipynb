{
 "cells": [
  {
   "cell_type": "markdown",
   "id": "6d02e7e6",
   "metadata": {},
   "source": [
    "# LlamaIndex Example"
   ]
  },
  {
   "cell_type": "code",
   "execution_count": 1,
   "id": "6a5e3fcf",
   "metadata": {},
   "outputs": [],
   "source": [
    "import pandas as pd"
   ]
  },
  {
   "cell_type": "code",
   "execution_count": 2,
   "id": "8ae8962f",
   "metadata": {},
   "outputs": [],
   "source": [
    "df = pd.read_csv('imdb_top_1000.csv')"
   ]
  },
  {
   "cell_type": "code",
   "execution_count": 3,
   "id": "eb25b062",
   "metadata": {},
   "outputs": [
    {
     "data": {
      "text/html": [
       "<div>\n",
       "<style scoped>\n",
       "    .dataframe tbody tr th:only-of-type {\n",
       "        vertical-align: middle;\n",
       "    }\n",
       "\n",
       "    .dataframe tbody tr th {\n",
       "        vertical-align: top;\n",
       "    }\n",
       "\n",
       "    .dataframe thead th {\n",
       "        text-align: right;\n",
       "    }\n",
       "</style>\n",
       "<table border=\"1\" class=\"dataframe\">\n",
       "  <thead>\n",
       "    <tr style=\"text-align: right;\">\n",
       "      <th></th>\n",
       "      <th>Poster_Link</th>\n",
       "      <th>Series_Title</th>\n",
       "      <th>Released_Year</th>\n",
       "      <th>Certificate</th>\n",
       "      <th>Runtime</th>\n",
       "      <th>Genre</th>\n",
       "      <th>IMDB_Rating</th>\n",
       "      <th>Overview</th>\n",
       "      <th>Meta_score</th>\n",
       "      <th>Director</th>\n",
       "      <th>Star1</th>\n",
       "      <th>Star2</th>\n",
       "      <th>Star3</th>\n",
       "      <th>Star4</th>\n",
       "      <th>No_of_Votes</th>\n",
       "      <th>Gross</th>\n",
       "    </tr>\n",
       "  </thead>\n",
       "  <tbody>\n",
       "    <tr>\n",
       "      <th>765</th>\n",
       "      <td>https://m.media-amazon.com/images/M/MV5BMjIxOD...</td>\n",
       "      <td>Efter brylluppet</td>\n",
       "      <td>2006</td>\n",
       "      <td>R</td>\n",
       "      <td>120 min</td>\n",
       "      <td>Drama</td>\n",
       "      <td>7.7</td>\n",
       "      <td>A manager of an orphanage in India is sent to ...</td>\n",
       "      <td>78.0</td>\n",
       "      <td>Susanne Bier</td>\n",
       "      <td>Mads Mikkelsen</td>\n",
       "      <td>Sidse Babett Knudsen</td>\n",
       "      <td>Rolf Lassgård</td>\n",
       "      <td>Neeral Mulchandani</td>\n",
       "      <td>32001</td>\n",
       "      <td>412,544</td>\n",
       "    </tr>\n",
       "    <tr>\n",
       "      <th>760</th>\n",
       "      <td>https://m.media-amazon.com/images/M/MV5BMTU2Nj...</td>\n",
       "      <td>Flipped</td>\n",
       "      <td>2010</td>\n",
       "      <td>PG</td>\n",
       "      <td>90 min</td>\n",
       "      <td>Comedy, Drama, Romance</td>\n",
       "      <td>7.7</td>\n",
       "      <td>Two eighth-graders start to have feelings for ...</td>\n",
       "      <td>45.0</td>\n",
       "      <td>Rob Reiner</td>\n",
       "      <td>Madeline Carroll</td>\n",
       "      <td>Callan McAuliffe</td>\n",
       "      <td>Rebecca De Mornay</td>\n",
       "      <td>Anthony Edwards</td>\n",
       "      <td>81446</td>\n",
       "      <td>1,752,214</td>\n",
       "    </tr>\n",
       "    <tr>\n",
       "      <th>695</th>\n",
       "      <td>https://m.media-amazon.com/images/M/MV5BNjZmMW...</td>\n",
       "      <td>The Day of the Jackal</td>\n",
       "      <td>1973</td>\n",
       "      <td>A</td>\n",
       "      <td>143 min</td>\n",
       "      <td>Crime, Drama, Thriller</td>\n",
       "      <td>7.8</td>\n",
       "      <td>A professional assassin codenamed \"Jackal\" plo...</td>\n",
       "      <td>80.0</td>\n",
       "      <td>Fred Zinnemann</td>\n",
       "      <td>Edward Fox</td>\n",
       "      <td>Terence Alexander</td>\n",
       "      <td>Michel Auclair</td>\n",
       "      <td>Alan Badel</td>\n",
       "      <td>37445</td>\n",
       "      <td>16,056,255</td>\n",
       "    </tr>\n",
       "    <tr>\n",
       "      <th>474</th>\n",
       "      <td>https://m.media-amazon.com/images/M/MV5BN2U1Yz...</td>\n",
       "      <td>Nightcrawler</td>\n",
       "      <td>2014</td>\n",
       "      <td>A</td>\n",
       "      <td>117 min</td>\n",
       "      <td>Crime, Drama, Thriller</td>\n",
       "      <td>7.9</td>\n",
       "      <td>When Louis Bloom, a con man desperate for work...</td>\n",
       "      <td>76.0</td>\n",
       "      <td>Dan Gilroy</td>\n",
       "      <td>Jake Gyllenhaal</td>\n",
       "      <td>Rene Russo</td>\n",
       "      <td>Bill Paxton</td>\n",
       "      <td>Riz Ahmed</td>\n",
       "      <td>466134</td>\n",
       "      <td>32,381,218</td>\n",
       "    </tr>\n",
       "    <tr>\n",
       "      <th>962</th>\n",
       "      <td>https://m.media-amazon.com/images/M/MV5BNzk1Mj...</td>\n",
       "      <td>Sense and Sensibility</td>\n",
       "      <td>1995</td>\n",
       "      <td>U</td>\n",
       "      <td>136 min</td>\n",
       "      <td>Drama, Romance</td>\n",
       "      <td>7.6</td>\n",
       "      <td>Rich Mr. Dashwood dies, leaving his second wif...</td>\n",
       "      <td>84.0</td>\n",
       "      <td>Ang Lee</td>\n",
       "      <td>Emma Thompson</td>\n",
       "      <td>Kate Winslet</td>\n",
       "      <td>James Fleet</td>\n",
       "      <td>Tom Wilkinson</td>\n",
       "      <td>102598</td>\n",
       "      <td>43,182,776</td>\n",
       "    </tr>\n",
       "    <tr>\n",
       "      <th>274</th>\n",
       "      <td>https://m.media-amazon.com/images/M/MV5BZmQzMD...</td>\n",
       "      <td>Fanny och Alexander</td>\n",
       "      <td>1982</td>\n",
       "      <td>A</td>\n",
       "      <td>188 min</td>\n",
       "      <td>Drama</td>\n",
       "      <td>8.1</td>\n",
       "      <td>Two young Swedish children experience the many...</td>\n",
       "      <td>100.0</td>\n",
       "      <td>Ingmar Bergman</td>\n",
       "      <td>Bertil Guve</td>\n",
       "      <td>Pernilla Allwin</td>\n",
       "      <td>Kristina Adolphson</td>\n",
       "      <td>Börje Ahlstedt</td>\n",
       "      <td>57784</td>\n",
       "      <td>4,971,340</td>\n",
       "    </tr>\n",
       "    <tr>\n",
       "      <th>379</th>\n",
       "      <td>https://m.media-amazon.com/images/M/MV5BMjM2NT...</td>\n",
       "      <td>Yeopgijeogin geunyeo</td>\n",
       "      <td>2001</td>\n",
       "      <td>NaN</td>\n",
       "      <td>137 min</td>\n",
       "      <td>Comedy, Drama, Romance</td>\n",
       "      <td>8.0</td>\n",
       "      <td>A young man sees a drunk, cute woman standing ...</td>\n",
       "      <td>NaN</td>\n",
       "      <td>Jae-young Kwak</td>\n",
       "      <td>Tae-Hyun Cha</td>\n",
       "      <td>Jun Ji-Hyun</td>\n",
       "      <td>In-mun Kim</td>\n",
       "      <td>Song Wok-suk</td>\n",
       "      <td>45403</td>\n",
       "      <td>NaN</td>\n",
       "    </tr>\n",
       "    <tr>\n",
       "      <th>442</th>\n",
       "      <td>https://m.media-amazon.com/images/M/MV5BYTNjN2...</td>\n",
       "      <td>The Night of the Hunter</td>\n",
       "      <td>1955</td>\n",
       "      <td>NaN</td>\n",
       "      <td>92 min</td>\n",
       "      <td>Crime, Drama, Film-Noir</td>\n",
       "      <td>8.0</td>\n",
       "      <td>A religious fanatic marries a gullible widow w...</td>\n",
       "      <td>99.0</td>\n",
       "      <td>Charles Laughton</td>\n",
       "      <td>Robert Mitchum</td>\n",
       "      <td>Shelley Winters</td>\n",
       "      <td>Lillian Gish</td>\n",
       "      <td>James Gleason</td>\n",
       "      <td>81980</td>\n",
       "      <td>654,000</td>\n",
       "    </tr>\n",
       "    <tr>\n",
       "      <th>113</th>\n",
       "      <td>https://m.media-amazon.com/images/M/MV5BMTY3Mj...</td>\n",
       "      <td>A Clockwork Orange</td>\n",
       "      <td>1971</td>\n",
       "      <td>A</td>\n",
       "      <td>136 min</td>\n",
       "      <td>Crime, Drama, Sci-Fi</td>\n",
       "      <td>8.3</td>\n",
       "      <td>In the future, a sadistic gang leader is impri...</td>\n",
       "      <td>77.0</td>\n",
       "      <td>Stanley Kubrick</td>\n",
       "      <td>Malcolm McDowell</td>\n",
       "      <td>Patrick Magee</td>\n",
       "      <td>Michael Bates</td>\n",
       "      <td>Warren Clarke</td>\n",
       "      <td>757904</td>\n",
       "      <td>6,207,725</td>\n",
       "    </tr>\n",
       "    <tr>\n",
       "      <th>13</th>\n",
       "      <td>https://m.media-amazon.com/images/M/MV5BZGMxZT...</td>\n",
       "      <td>The Lord of the Rings: The Two Towers</td>\n",
       "      <td>2002</td>\n",
       "      <td>UA</td>\n",
       "      <td>179 min</td>\n",
       "      <td>Action, Adventure, Drama</td>\n",
       "      <td>8.7</td>\n",
       "      <td>While Frodo and Sam edge closer to Mordor with...</td>\n",
       "      <td>87.0</td>\n",
       "      <td>Peter Jackson</td>\n",
       "      <td>Elijah Wood</td>\n",
       "      <td>Ian McKellen</td>\n",
       "      <td>Viggo Mortensen</td>\n",
       "      <td>Orlando Bloom</td>\n",
       "      <td>1485555</td>\n",
       "      <td>342,551,365</td>\n",
       "    </tr>\n",
       "  </tbody>\n",
       "</table>\n",
       "</div>"
      ],
      "text/plain": [
       "                                           Poster_Link  \\\n",
       "765  https://m.media-amazon.com/images/M/MV5BMjIxOD...   \n",
       "760  https://m.media-amazon.com/images/M/MV5BMTU2Nj...   \n",
       "695  https://m.media-amazon.com/images/M/MV5BNjZmMW...   \n",
       "474  https://m.media-amazon.com/images/M/MV5BN2U1Yz...   \n",
       "962  https://m.media-amazon.com/images/M/MV5BNzk1Mj...   \n",
       "274  https://m.media-amazon.com/images/M/MV5BZmQzMD...   \n",
       "379  https://m.media-amazon.com/images/M/MV5BMjM2NT...   \n",
       "442  https://m.media-amazon.com/images/M/MV5BYTNjN2...   \n",
       "113  https://m.media-amazon.com/images/M/MV5BMTY3Mj...   \n",
       "13   https://m.media-amazon.com/images/M/MV5BZGMxZT...   \n",
       "\n",
       "                              Series_Title Released_Year Certificate  Runtime  \\\n",
       "765                       Efter brylluppet          2006           R  120 min   \n",
       "760                                Flipped          2010          PG   90 min   \n",
       "695                  The Day of the Jackal          1973           A  143 min   \n",
       "474                           Nightcrawler          2014           A  117 min   \n",
       "962                  Sense and Sensibility          1995           U  136 min   \n",
       "274                    Fanny och Alexander          1982           A  188 min   \n",
       "379                   Yeopgijeogin geunyeo          2001         NaN  137 min   \n",
       "442                The Night of the Hunter          1955         NaN   92 min   \n",
       "113                     A Clockwork Orange          1971           A  136 min   \n",
       "13   The Lord of the Rings: The Two Towers          2002          UA  179 min   \n",
       "\n",
       "                        Genre  IMDB_Rating  \\\n",
       "765                     Drama          7.7   \n",
       "760    Comedy, Drama, Romance          7.7   \n",
       "695    Crime, Drama, Thriller          7.8   \n",
       "474    Crime, Drama, Thriller          7.9   \n",
       "962            Drama, Romance          7.6   \n",
       "274                     Drama          8.1   \n",
       "379    Comedy, Drama, Romance          8.0   \n",
       "442   Crime, Drama, Film-Noir          8.0   \n",
       "113      Crime, Drama, Sci-Fi          8.3   \n",
       "13   Action, Adventure, Drama          8.7   \n",
       "\n",
       "                                              Overview  Meta_score  \\\n",
       "765  A manager of an orphanage in India is sent to ...        78.0   \n",
       "760  Two eighth-graders start to have feelings for ...        45.0   \n",
       "695  A professional assassin codenamed \"Jackal\" plo...        80.0   \n",
       "474  When Louis Bloom, a con man desperate for work...        76.0   \n",
       "962  Rich Mr. Dashwood dies, leaving his second wif...        84.0   \n",
       "274  Two young Swedish children experience the many...       100.0   \n",
       "379  A young man sees a drunk, cute woman standing ...         NaN   \n",
       "442  A religious fanatic marries a gullible widow w...        99.0   \n",
       "113  In the future, a sadistic gang leader is impri...        77.0   \n",
       "13   While Frodo and Sam edge closer to Mordor with...        87.0   \n",
       "\n",
       "             Director             Star1                 Star2  \\\n",
       "765      Susanne Bier    Mads Mikkelsen  Sidse Babett Knudsen   \n",
       "760        Rob Reiner  Madeline Carroll      Callan McAuliffe   \n",
       "695    Fred Zinnemann        Edward Fox     Terence Alexander   \n",
       "474        Dan Gilroy   Jake Gyllenhaal            Rene Russo   \n",
       "962           Ang Lee     Emma Thompson          Kate Winslet   \n",
       "274    Ingmar Bergman       Bertil Guve       Pernilla Allwin   \n",
       "379    Jae-young Kwak      Tae-Hyun Cha           Jun Ji-Hyun   \n",
       "442  Charles Laughton    Robert Mitchum       Shelley Winters   \n",
       "113   Stanley Kubrick  Malcolm McDowell         Patrick Magee   \n",
       "13      Peter Jackson       Elijah Wood          Ian McKellen   \n",
       "\n",
       "                  Star3               Star4  No_of_Votes        Gross  \n",
       "765       Rolf Lassgård  Neeral Mulchandani        32001      412,544  \n",
       "760   Rebecca De Mornay     Anthony Edwards        81446    1,752,214  \n",
       "695      Michel Auclair          Alan Badel        37445   16,056,255  \n",
       "474         Bill Paxton           Riz Ahmed       466134   32,381,218  \n",
       "962         James Fleet       Tom Wilkinson       102598   43,182,776  \n",
       "274  Kristina Adolphson      Börje Ahlstedt        57784    4,971,340  \n",
       "379          In-mun Kim        Song Wok-suk        45403          NaN  \n",
       "442        Lillian Gish       James Gleason        81980      654,000  \n",
       "113       Michael Bates       Warren Clarke       757904    6,207,725  \n",
       "13      Viggo Mortensen       Orlando Bloom      1485555  342,551,365  "
      ]
     },
     "execution_count": 3,
     "metadata": {},
     "output_type": "execute_result"
    }
   ],
   "source": [
    "df.sample(10)"
   ]
  },
  {
   "cell_type": "code",
   "execution_count": 4,
   "id": "72e68417",
   "metadata": {},
   "outputs": [],
   "source": [
    "## getting rid of unwanted columns\n",
    "df = df[['Series_Title', 'Released_Year', 'Runtime', 'Genre', 'Overview', 'IMDB_Rating', 'Director']]"
   ]
  },
  {
   "cell_type": "code",
   "execution_count": 5,
   "id": "f015a04a",
   "metadata": {},
   "outputs": [],
   "source": [
    "def to_text(row):\n",
    "    return \"\"\"\n",
    "    The Movie name is {0} it was released in {1} the runtime of the movie is {2}, the movie tells story about {4} the genre is {3}, the rating of the movie in IMDB is {5}, and the director named {6}\n",
    "        \"\"\".format(row['Series_Title'],row['Released_Year'],row['Runtime'],row['Genre'],row['Overview'], row['IMDB_Rating'], row['Director'])"
   ]
  },
  {
   "cell_type": "code",
   "execution_count": 6,
   "id": "39b67002",
   "metadata": {},
   "outputs": [],
   "source": [
    "text_list = []\n",
    "\n",
    "for i in df.iterrows():\n",
    "    text_list.append(to_text(i[1]))"
   ]
  },
  {
   "cell_type": "code",
   "execution_count": 7,
   "id": "5226c760",
   "metadata": {},
   "outputs": [
    {
     "name": "stdout",
     "output_type": "stream",
     "text": [
      "\n",
      "    The Movie name is The Shawshank Redemption it was released in 1994 the runtime of the movie is 142 min, the movie tells story about Two imprisoned men bond over a number of years, finding solace and eventual redemption through acts of common decency. the genre is Drama, the rating of the movie in IMDB is 9.3, and the director named Frank Darabont\n",
      "        \n"
     ]
    }
   ],
   "source": [
    "print(text_list[0])"
   ]
  },
  {
   "cell_type": "code",
   "execution_count": 8,
   "id": "11c62852",
   "metadata": {},
   "outputs": [],
   "source": [
    "from llama_index import Document\n",
    "\n",
    "documents = [Document(t) for t in text_list]"
   ]
  },
  {
   "cell_type": "code",
   "execution_count": 9,
   "id": "5f21b18e",
   "metadata": {},
   "outputs": [
    {
     "name": "stderr",
     "output_type": "stream",
     "text": [
      "INFO:llama_index.token_counter.token_counter:> [build_index_from_nodes] Total LLM token usage: 0 tokens\n",
      "INFO:llama_index.token_counter.token_counter:> [build_index_from_nodes] Total embedding token usage: 99900 tokens\n"
     ]
    }
   ],
   "source": [
    "from llama_index import GPTSimpleVectorIndex\n",
    "\n",
    "index = GPTSimpleVectorIndex.from_documents(documents)"
   ]
  },
  {
   "cell_type": "code",
   "execution_count": null,
   "id": "3b6f0366",
   "metadata": {},
   "outputs": [],
   "source": [
    "# saving for later \n",
    "index.save_to_disk('index2.json')"
   ]
  },
  {
   "cell_type": "code",
   "execution_count": 28,
   "id": "62d4a60b",
   "metadata": {},
   "outputs": [],
   "source": [
    "from llama_index import QuestionAnswerPrompt, GPTSimpleVectorIndex, SimpleDirectoryReader\n",
    "\n",
    "# load documents\n",
    "# define custom QuestionAnswerPrompt\n",
    "QA_PROMPT_TMPL = (\n",
    "    \"Answer the Query based on movies\"\n",
    "    \"This is more information that:\\n\"\n",
    "    \"---------------------\\n\"\n",
    "    \"{context_str}\"\n",
    "    \"\\n---------------------\\n\"\n",
    "    \"\\n\\nQuery: {query_str}\\n from the information answer the Query.\"\n",
    ")\n",
    "QA_PROMPT = QuestionAnswerPrompt(QA_PROMPT_TMPL)\n",
    "# Build GPTSimpleVectorIndex\n"
   ]
  },
  {
   "cell_type": "code",
   "execution_count": 25,
   "id": "4aac727b",
   "metadata": {},
   "outputs": [
    {
     "name": "stderr",
     "output_type": "stream",
     "text": [
      "INFO:llama_index.token_counter.token_counter:> [query] Total LLM token usage: 158 tokens\n",
      "INFO:llama_index.token_counter.token_counter:> [query] Total embedding token usage: 9 tokens\n"
     ]
    },
    {
     "name": "stdout",
     "output_type": "stream",
     "text": [
      "\n",
      "\n",
      "The Shawshank Redemption was released in 1994.\n"
     ]
    }
   ],
   "source": [
    "response = index.query(\"when The Shawshank Redemption is released?\", text_qa_template=QA_PROMPT)\n",
    "print(response)"
   ]
  },
  {
   "cell_type": "code",
   "execution_count": 29,
   "id": "dba2f780",
   "metadata": {},
   "outputs": [
    {
     "name": "stderr",
     "output_type": "stream",
     "text": [
      "INFO:llama_index.token_counter.token_counter:> [query] Total LLM token usage: 171 tokens\n",
      "INFO:llama_index.token_counter.token_counter:> [query] Total embedding token usage: 12 tokens\n"
     ]
    },
    {
     "name": "stdout",
     "output_type": "stream",
     "text": [
      "\n",
      "\n",
      "The movie Short Term 12 has a runtime of 96 min, so it would be included in the list of movies with a runtime less than 120 min.\n"
     ]
    }
   ],
   "source": [
    "response = index.query(\"give me all the Movies that have runtime less than 120min\", text_qa_template=QA_PROMPT)\n",
    "print(response)"
   ]
  },
  {
   "cell_type": "code",
   "execution_count": 30,
   "id": "7da2b202",
   "metadata": {},
   "outputs": [
    {
     "name": "stderr",
     "output_type": "stream",
     "text": [
      "INFO:llama_index.token_counter.token_counter:> [query] Total LLM token usage: 166 tokens\n",
      "INFO:llama_index.token_counter.token_counter:> [query] Total embedding token usage: 6 tokens\n"
     ]
    },
    {
     "name": "stdout",
     "output_type": "stream",
     "text": [
      "\n",
      "\n",
      "The Best Years of Our Lives is one of the best Drama movies, with a rating of 8.0 on IMDB and directed by William Wyler.\n"
     ]
    }
   ],
   "source": [
    "response = index.query(\"give me the best Drama movie\", text_qa_template=QA_PROMPT)\n",
    "print(response)"
   ]
  },
  {
   "cell_type": "code",
   "execution_count": null,
   "id": "74122298",
   "metadata": {},
   "outputs": [],
   "source": []
  }
 ],
 "metadata": {
  "kernelspec": {
   "display_name": "projects",
   "language": "python",
   "name": "myenv"
  },
  "language_info": {
   "codemirror_mode": {
    "name": "ipython",
    "version": 3
   },
   "file_extension": ".py",
   "mimetype": "text/x-python",
   "name": "python",
   "nbconvert_exporter": "python",
   "pygments_lexer": "ipython3",
   "version": "3.9.16"
  }
 },
 "nbformat": 4,
 "nbformat_minor": 5
}
